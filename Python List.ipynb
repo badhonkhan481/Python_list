{
 "cells": [
  {
   "cell_type": "code",
   "execution_count": null,
   "id": "8e363518",
   "metadata": {},
   "outputs": [],
   "source": [
    "# copy() -returns a shallow copy of the list\n",
    "# append() - adds an elements to the end of the list\n",
    "# extend()-adds all elements of a list to another list\n",
    "# insert()-inserts an item at the defined index\n",
    "# index() -returns an item at athe defined index\n",
    "# count() --returns the index of the first matched item\n",
    "# sort() --sort items in a list in ascending order\n",
    "# reverse() --reverse the order of items in the list\n",
    "# remove() --removes an item from the list\n",
    "# pop()  ---returns and removes an element at the given index\n",
    "# clear()  -removes all items from the list\n"
   ]
  },
  {
   "cell_type": "code",
   "execution_count": 31,
   "id": "62a52062",
   "metadata": {},
   "outputs": [],
   "source": [
    "#list\n",
    "ll=[2,5,8,10]"
   ]
  },
  {
   "cell_type": "code",
   "execution_count": 32,
   "id": "f0be28e8",
   "metadata": {},
   "outputs": [
    {
     "data": {
      "text/plain": [
       "[2, 5, 8, 10]"
      ]
     },
     "execution_count": 32,
     "metadata": {},
     "output_type": "execute_result"
    }
   ],
   "source": [
    "ll"
   ]
  },
  {
   "cell_type": "code",
   "execution_count": 33,
   "id": "2972e0a4",
   "metadata": {},
   "outputs": [
    {
     "data": {
      "text/plain": [
       "list"
      ]
     },
     "execution_count": 33,
     "metadata": {},
     "output_type": "execute_result"
    }
   ],
   "source": [
    "type(ll)"
   ]
  },
  {
   "cell_type": "code",
   "execution_count": 34,
   "id": "6f982ca6",
   "metadata": {},
   "outputs": [
    {
     "data": {
      "text/plain": [
       "2"
      ]
     },
     "execution_count": 34,
     "metadata": {},
     "output_type": "execute_result"
    }
   ],
   "source": [
    "ll[0]"
   ]
  },
  {
   "cell_type": "code",
   "execution_count": 35,
   "id": "e465cdf2",
   "metadata": {},
   "outputs": [
    {
     "data": {
      "text/plain": [
       "10"
      ]
     },
     "execution_count": 35,
     "metadata": {},
     "output_type": "execute_result"
    }
   ],
   "source": [
    "ll[-1]"
   ]
  },
  {
   "cell_type": "code",
   "execution_count": 36,
   "id": "d426e4ff",
   "metadata": {},
   "outputs": [
    {
     "data": {
      "text/plain": [
       "[2, 5]"
      ]
     },
     "execution_count": 36,
     "metadata": {},
     "output_type": "execute_result"
    }
   ],
   "source": [
    "ll[0:2]"
   ]
  },
  {
   "cell_type": "code",
   "execution_count": 37,
   "id": "87007b6c",
   "metadata": {},
   "outputs": [
    {
     "data": {
      "text/plain": [
       "[2, 5, 8]"
      ]
     },
     "execution_count": 37,
     "metadata": {},
     "output_type": "execute_result"
    }
   ],
   "source": [
    "ll[0:3]"
   ]
  },
  {
   "cell_type": "code",
   "execution_count": 39,
   "id": "5b2a268c",
   "metadata": {},
   "outputs": [],
   "source": [
    "ll[0]='Machine Learning'"
   ]
  },
  {
   "cell_type": "code",
   "execution_count": 40,
   "id": "859a9ab1",
   "metadata": {},
   "outputs": [
    {
     "data": {
      "text/plain": [
       "['Machine Learning', 5, 8, 10]"
      ]
     },
     "execution_count": 40,
     "metadata": {},
     "output_type": "execute_result"
    }
   ],
   "source": [
    "ll"
   ]
  },
  {
   "cell_type": "code",
   "execution_count": 41,
   "id": "d128bfd2",
   "metadata": {},
   "outputs": [],
   "source": [
    "ll.append(\"Computer Science\")"
   ]
  },
  {
   "cell_type": "code",
   "execution_count": 42,
   "id": "4ca57134",
   "metadata": {},
   "outputs": [
    {
     "data": {
      "text/plain": [
       "['Machine Learning', 5, 8, 10, 'Computer Science']"
      ]
     },
     "execution_count": 42,
     "metadata": {},
     "output_type": "execute_result"
    }
   ],
   "source": [
    "ll"
   ]
  },
  {
   "cell_type": "code",
   "execution_count": 45,
   "id": "9c676e9a",
   "metadata": {},
   "outputs": [],
   "source": [
    "ll.append(10)# add"
   ]
  },
  {
   "cell_type": "code",
   "execution_count": 46,
   "id": "a9f750a4",
   "metadata": {},
   "outputs": [
    {
     "data": {
      "text/plain": [
       "['Machine Learning', 5, 8, 10, 'Computer Science', '10', 10]"
      ]
     },
     "execution_count": 46,
     "metadata": {},
     "output_type": "execute_result"
    }
   ],
   "source": [
    "ll"
   ]
  },
  {
   "cell_type": "code",
   "execution_count": 47,
   "id": "00555894",
   "metadata": {},
   "outputs": [
    {
     "data": {
      "text/plain": [
       "120"
      ]
     },
     "execution_count": 47,
     "metadata": {},
     "output_type": "execute_result"
    }
   ],
   "source": [
    "import sys\n",
    "sys.getsizeof(ll)"
   ]
  },
  {
   "cell_type": "code",
   "execution_count": 48,
   "id": "ec8f0b5c",
   "metadata": {},
   "outputs": [
    {
     "data": {
      "text/plain": [
       "10"
      ]
     },
     "execution_count": 48,
     "metadata": {},
     "output_type": "execute_result"
    }
   ],
   "source": [
    "ll.pop() #delete "
   ]
  },
  {
   "cell_type": "code",
   "execution_count": 49,
   "id": "da6cf707",
   "metadata": {},
   "outputs": [
    {
     "data": {
      "text/plain": [
       "'10'"
      ]
     },
     "execution_count": 49,
     "metadata": {},
     "output_type": "execute_result"
    }
   ],
   "source": [
    "ll.pop()"
   ]
  },
  {
   "cell_type": "code",
   "execution_count": 50,
   "id": "30c9a6a0",
   "metadata": {},
   "outputs": [
    {
     "data": {
      "text/plain": [
       "5"
      ]
     },
     "execution_count": 50,
     "metadata": {},
     "output_type": "execute_result"
    }
   ],
   "source": [
    "ll.pop(1)"
   ]
  },
  {
   "cell_type": "code",
   "execution_count": 53,
   "id": "c90d5884",
   "metadata": {},
   "outputs": [],
   "source": [
    "#creating list using list constructor\n",
    "\n",
    "l2=list((\"ai\",12, (1,2,3,)))"
   ]
  },
  {
   "cell_type": "code",
   "execution_count": 54,
   "id": "5e7feb85",
   "metadata": {},
   "outputs": [
    {
     "data": {
      "text/plain": [
       "['ai', 12, (1, 2, 3)]"
      ]
     },
     "execution_count": 54,
     "metadata": {},
     "output_type": "execute_result"
    }
   ],
   "source": [
    "l2"
   ]
  },
  {
   "cell_type": "code",
   "execution_count": 61,
   "id": "75d46849",
   "metadata": {},
   "outputs": [
    {
     "data": {
      "text/plain": [
       "list"
      ]
     },
     "execution_count": 61,
     "metadata": {},
     "output_type": "execute_result"
    }
   ],
   "source": [
    "type(l2)"
   ]
  },
  {
   "cell_type": "code",
   "execution_count": 62,
   "id": "b93fd8c4",
   "metadata": {},
   "outputs": [
    {
     "name": "stdout",
     "output_type": "stream",
     "text": [
      "Enter your total index: 3\n",
      "1\n",
      "['1']\n",
      "2\n",
      "['1', '2']\n",
      "3\n",
      "['1', '2', '3']\n"
     ]
    }
   ],
   "source": [
    "#input list from user\n",
    "l3=[]\n",
    "n=int(input(\"Enter your total index: \"))\n",
    "\n",
    "for i in range (n):\n",
    "    new = input()\n",
    "    l3.append(new)\n",
    "    print(l3)"
   ]
  },
  {
   "cell_type": "code",
   "execution_count": 63,
   "id": "220bb924",
   "metadata": {},
   "outputs": [
    {
     "name": "stdout",
     "output_type": "stream",
     "text": [
      "Enter your total index: 4\n",
      "2\n",
      "badhon\n",
      "1\n",
      "3\n",
      "['2', 'badhon', '1', '3']\n"
     ]
    }
   ],
   "source": [
    "#input list from user\n",
    "l3=[]\n",
    "n=int(input(\"Enter your total index: \"))\n",
    "\n",
    "for i in range (n):\n",
    "    new = input()\n",
    "    l3.append(new)\n",
    "print(l3)"
   ]
  },
  {
   "cell_type": "code",
   "execution_count": 64,
   "id": "7319fa24",
   "metadata": {},
   "outputs": [],
   "source": [
    "# copy() -returns a shallow copy of the list\n",
    "# append() - adds an elements to the end of the list\n",
    "# extend()-adds all elements of a list to another list\n",
    "# insert()-inserts an item at the defined index\n",
    "# index() -returns an item at athe defined index\n",
    "# count() --returns the index of the first matched item\n",
    "# sort() --sort items in a list in ascending order\n",
    "# reverse() --reverse the order of items in the list\n",
    "# remove() --removes an item from the list\n",
    "# pop()  ---returns and removes an element at the given index\n",
    "# clear()  -removes all items from the list\n",
    "\n"
   ]
  },
  {
   "cell_type": "markdown",
   "id": "3be45d66",
   "metadata": {},
   "source": [
    "# list copy() - returns a shallow copy ogf the list."
   ]
  },
  {
   "cell_type": "code",
   "execution_count": 66,
   "id": "04d42a94",
   "metadata": {},
   "outputs": [],
   "source": [
    "#list copy() - returns a shallow copy ogf the list.\n",
    "list1=[\"ai\",'ds','cs',150,20,True,[3,4],(1,2)]"
   ]
  },
  {
   "cell_type": "code",
   "execution_count": 67,
   "id": "cdba37c6",
   "metadata": {},
   "outputs": [
    {
     "data": {
      "text/plain": [
       "['ai', 'ds', 'cs', 150, 20, True, [3, 4], (1, 2)]"
      ]
     },
     "execution_count": 67,
     "metadata": {},
     "output_type": "execute_result"
    }
   ],
   "source": [
    "list1"
   ]
  },
  {
   "cell_type": "code",
   "execution_count": 68,
   "id": "00241e5a",
   "metadata": {},
   "outputs": [
    {
     "data": {
      "text/plain": [
       "'ai'"
      ]
     },
     "execution_count": 68,
     "metadata": {},
     "output_type": "execute_result"
    }
   ],
   "source": [
    "list[0]"
   ]
  },
  {
   "cell_type": "code",
   "execution_count": 69,
   "id": "ddb04f37",
   "metadata": {},
   "outputs": [
    {
     "data": {
      "text/plain": [
       "(1, 2)"
      ]
     },
     "execution_count": 69,
     "metadata": {},
     "output_type": "execute_result"
    }
   ],
   "source": [
    "list[-1]"
   ]
  },
  {
   "cell_type": "code",
   "execution_count": 70,
   "id": "68a7373a",
   "metadata": {},
   "outputs": [
    {
     "data": {
      "text/plain": [
       "['ai', 'ds', 'cs', 150, 20, True, [3, 4], (1, 2)]"
      ]
     },
     "execution_count": 70,
     "metadata": {},
     "output_type": "execute_result"
    }
   ],
   "source": [
    "list"
   ]
  },
  {
   "cell_type": "code",
   "execution_count": 71,
   "id": "e36165b2",
   "metadata": {},
   "outputs": [
    {
     "data": {
      "text/plain": [
       "['ai', 'ds', 'cs', 150, 20, True, [3, 4], (1, 2)]"
      ]
     },
     "execution_count": 71,
     "metadata": {},
     "output_type": "execute_result"
    }
   ],
   "source": [
    "list1"
   ]
  },
  {
   "cell_type": "code",
   "execution_count": 72,
   "id": "f493f0cf",
   "metadata": {},
   "outputs": [
    {
     "data": {
      "text/plain": [
       "1"
      ]
     },
     "execution_count": 72,
     "metadata": {},
     "output_type": "execute_result"
    }
   ],
   "source": [
    "list[-1][-2]"
   ]
  },
  {
   "cell_type": "code",
   "execution_count": 73,
   "id": "80815ba9",
   "metadata": {},
   "outputs": [],
   "source": [
    "#1. copy()\n",
    "\n",
    "list2=list1"
   ]
  },
  {
   "cell_type": "code",
   "execution_count": 74,
   "id": "dae91a60",
   "metadata": {},
   "outputs": [
    {
     "data": {
      "text/plain": [
       "['ai', 'ds', 'cs', 150, 20, True, [3, 4], (1, 2)]"
      ]
     },
     "execution_count": 74,
     "metadata": {},
     "output_type": "execute_result"
    }
   ],
   "source": [
    "list2"
   ]
  },
  {
   "cell_type": "code",
   "execution_count": 75,
   "id": "6a6e14ec",
   "metadata": {},
   "outputs": [],
   "source": [
    "list3=list1.copy()"
   ]
  },
  {
   "cell_type": "code",
   "execution_count": 77,
   "id": "419b8ada",
   "metadata": {},
   "outputs": [
    {
     "data": {
      "text/plain": [
       "['ai', 'ds', 'cs', 150, 20, True, [3, 4], (1, 2)]"
      ]
     },
     "execution_count": 77,
     "metadata": {},
     "output_type": "execute_result"
    }
   ],
   "source": [
    "list3"
   ]
  },
  {
   "cell_type": "code",
   "execution_count": 78,
   "id": "c8c9f234",
   "metadata": {},
   "outputs": [],
   "source": [
    "list1[0]='badhon'"
   ]
  },
  {
   "cell_type": "code",
   "execution_count": 79,
   "id": "7900da2f",
   "metadata": {},
   "outputs": [
    {
     "data": {
      "text/plain": [
       "['badhon', 'ds', 'cs', 150, 20, True, [3, 4], (1, 2)]"
      ]
     },
     "execution_count": 79,
     "metadata": {},
     "output_type": "execute_result"
    }
   ],
   "source": [
    "list1"
   ]
  },
  {
   "cell_type": "code",
   "execution_count": 81,
   "id": "0d0c325e",
   "metadata": {},
   "outputs": [
    {
     "data": {
      "text/plain": [
       "['badhon', 'ds', 'cs', 150, 20, True, [3, 4], (1, 2)]"
      ]
     },
     "execution_count": 81,
     "metadata": {},
     "output_type": "execute_result"
    }
   ],
   "source": [
    "list2"
   ]
  },
  {
   "cell_type": "markdown",
   "id": "b81eb299",
   "metadata": {},
   "source": [
    "list3"
   ]
  },
  {
   "cell_type": "code",
   "execution_count": 82,
   "id": "a3e2f9b1",
   "metadata": {},
   "outputs": [
    {
     "data": {
      "text/plain": [
       "['ai', 'ds', 'cs', 150, 20, True, [3, 4], (1, 2)]"
      ]
     },
     "execution_count": 82,
     "metadata": {},
     "output_type": "execute_result"
    }
   ],
   "source": [
    "list3"
   ]
  },
  {
   "cell_type": "markdown",
   "id": "7205b123",
   "metadata": {},
   "source": [
    "\n",
    "# append() - adds an elements to the end of the list.\n",
    "\n"
   ]
  },
  {
   "cell_type": "code",
   "execution_count": 83,
   "id": "fe390f74",
   "metadata": {},
   "outputs": [],
   "source": [
    "list1.append(\"Parvej\")"
   ]
  },
  {
   "cell_type": "code",
   "execution_count": 84,
   "id": "c81bf74d",
   "metadata": {},
   "outputs": [
    {
     "data": {
      "text/plain": [
       "['badhon', 'ds', 'cs', 150, 20, True, [3, 4], (1, 2), 'Parvej']"
      ]
     },
     "execution_count": 84,
     "metadata": {},
     "output_type": "execute_result"
    }
   ],
   "source": [
    "list1"
   ]
  },
  {
   "cell_type": "code",
   "execution_count": 85,
   "id": "2c9a333e",
   "metadata": {},
   "outputs": [],
   "source": [
    "list4=[12,15,20]"
   ]
  },
  {
   "cell_type": "code",
   "execution_count": 86,
   "id": "e6ab6eb3",
   "metadata": {},
   "outputs": [
    {
     "data": {
      "text/plain": [
       "[12, 15, 20]"
      ]
     },
     "execution_count": 86,
     "metadata": {},
     "output_type": "execute_result"
    }
   ],
   "source": [
    "list4"
   ]
  },
  {
   "cell_type": "code",
   "execution_count": 88,
   "id": "10142539",
   "metadata": {},
   "outputs": [],
   "source": [
    "list1.append(list4)"
   ]
  },
  {
   "cell_type": "code",
   "execution_count": 89,
   "id": "b38d4b47",
   "metadata": {},
   "outputs": [
    {
     "data": {
      "text/plain": [
       "['badhon', 'ds', 'cs', 150, 20, True, [3, 4], (1, 2), 'Parvej', [12, 15, 20]]"
      ]
     },
     "execution_count": 89,
     "metadata": {},
     "output_type": "execute_result"
    }
   ],
   "source": [
    "list1"
   ]
  },
  {
   "cell_type": "markdown",
   "id": "77ada7db",
   "metadata": {},
   "source": [
    "# extend()-adds all elements of a list to another list"
   ]
  },
  {
   "cell_type": "code",
   "execution_count": 90,
   "id": "a3979733",
   "metadata": {},
   "outputs": [],
   "source": [
    "list1.extend(list4)"
   ]
  },
  {
   "cell_type": "code",
   "execution_count": 91,
   "id": "d481f23d",
   "metadata": {},
   "outputs": [
    {
     "data": {
      "text/plain": [
       "[12, 15, 20]"
      ]
     },
     "execution_count": 91,
     "metadata": {},
     "output_type": "execute_result"
    }
   ],
   "source": [
    "list4"
   ]
  },
  {
   "cell_type": "code",
   "execution_count": 92,
   "id": "2b0ba270",
   "metadata": {},
   "outputs": [
    {
     "data": {
      "text/plain": [
       "['badhon',\n",
       " 'ds',\n",
       " 'cs',\n",
       " 150,\n",
       " 20,\n",
       " True,\n",
       " [3, 4],\n",
       " (1, 2),\n",
       " 'Parvej',\n",
       " [12, 15, 20],\n",
       " 12,\n",
       " 15,\n",
       " 20]"
      ]
     },
     "execution_count": 92,
     "metadata": {},
     "output_type": "execute_result"
    }
   ],
   "source": [
    "list1"
   ]
  },
  {
   "cell_type": "markdown",
   "id": "8329fae0",
   "metadata": {},
   "source": [
    "# insert()-inserts an item at the defined index"
   ]
  },
  {
   "cell_type": "code",
   "execution_count": 95,
   "id": "187233b8",
   "metadata": {},
   "outputs": [],
   "source": [
    "list1.insert(1,\"GUB\")"
   ]
  },
  {
   "cell_type": "code",
   "execution_count": 96,
   "id": "015fa95a",
   "metadata": {},
   "outputs": [
    {
     "data": {
      "text/plain": [
       "['badhon',\n",
       " 'GUB',\n",
       " 'GUB',\n",
       " 'ds',\n",
       " 'cs',\n",
       " 150,\n",
       " 20,\n",
       " True,\n",
       " [3, 4],\n",
       " (1, 2),\n",
       " 'Parvej',\n",
       " [12, 15, 20],\n",
       " 12,\n",
       " 15,\n",
       " 20]"
      ]
     },
     "execution_count": 96,
     "metadata": {},
     "output_type": "execute_result"
    }
   ],
   "source": [
    "list1"
   ]
  },
  {
   "cell_type": "markdown",
   "id": "e543a4dd",
   "metadata": {},
   "source": [
    "# index() -returns an item at athe defined index"
   ]
  },
  {
   "cell_type": "code",
   "execution_count": 98,
   "id": "35fe9680",
   "metadata": {},
   "outputs": [
    {
     "data": {
      "text/plain": [
       "5"
      ]
     },
     "execution_count": 98,
     "metadata": {},
     "output_type": "execute_result"
    }
   ],
   "source": [
    "list1.index(150)"
   ]
  },
  {
   "cell_type": "code",
   "execution_count": 100,
   "id": "9e349b26",
   "metadata": {},
   "outputs": [
    {
     "data": {
      "text/plain": [
       "9"
      ]
     },
     "execution_count": 100,
     "metadata": {},
     "output_type": "execute_result"
    }
   ],
   "source": [
    "list1.index((1,2))"
   ]
  },
  {
   "cell_type": "markdown",
   "id": "9ba25835",
   "metadata": {},
   "source": [
    "# count() --returns the index of the first matched item"
   ]
  },
  {
   "cell_type": "code",
   "execution_count": 101,
   "id": "606a1c21",
   "metadata": {},
   "outputs": [
    {
     "data": {
      "text/plain": [
       "1"
      ]
     },
     "execution_count": 101,
     "metadata": {},
     "output_type": "execute_result"
    }
   ],
   "source": [
    "list1.count(150)"
   ]
  },
  {
   "cell_type": "code",
   "execution_count": 102,
   "id": "55bf7964",
   "metadata": {},
   "outputs": [
    {
     "data": {
      "text/plain": [
       "1"
      ]
     },
     "execution_count": 102,
     "metadata": {},
     "output_type": "execute_result"
    }
   ],
   "source": [
    "list1.count([3,4])"
   ]
  },
  {
   "cell_type": "markdown",
   "id": "43b5ca7e",
   "metadata": {},
   "source": [
    "# sort() --sort items in a list in ascending order"
   ]
  },
  {
   "cell_type": "code",
   "execution_count": 103,
   "id": "fc5cd4be",
   "metadata": {},
   "outputs": [],
   "source": [
    "ls2=[10,2,6,8,9]"
   ]
  },
  {
   "cell_type": "code",
   "execution_count": 104,
   "id": "79b379d8",
   "metadata": {},
   "outputs": [
    {
     "data": {
      "text/plain": [
       "[10, 2, 6, 8, 9]"
      ]
     },
     "execution_count": 104,
     "metadata": {},
     "output_type": "execute_result"
    }
   ],
   "source": [
    "ls2"
   ]
  },
  {
   "cell_type": "code",
   "execution_count": 105,
   "id": "68e3e154",
   "metadata": {},
   "outputs": [],
   "source": [
    "ls2.sort()"
   ]
  },
  {
   "cell_type": "code",
   "execution_count": 106,
   "id": "53b7a255",
   "metadata": {},
   "outputs": [
    {
     "data": {
      "text/plain": [
       "[2, 6, 8, 9, 10]"
      ]
     },
     "execution_count": 106,
     "metadata": {},
     "output_type": "execute_result"
    }
   ],
   "source": [
    "ls2"
   ]
  },
  {
   "cell_type": "markdown",
   "id": "2b9a858b",
   "metadata": {},
   "source": [
    "# reverse() --reverse the order of items in the list"
   ]
  },
  {
   "cell_type": "code",
   "execution_count": 107,
   "id": "bfecd327",
   "metadata": {},
   "outputs": [],
   "source": [
    "ls2.reverse()"
   ]
  },
  {
   "cell_type": "code",
   "execution_count": 108,
   "id": "3873fd00",
   "metadata": {},
   "outputs": [
    {
     "data": {
      "text/plain": [
       "[10, 9, 8, 6, 2]"
      ]
     },
     "execution_count": 108,
     "metadata": {},
     "output_type": "execute_result"
    }
   ],
   "source": [
    "ls2"
   ]
  },
  {
   "cell_type": "markdown",
   "id": "0fdd2eb9",
   "metadata": {},
   "source": [
    "# remove() --removes an item from the list"
   ]
  },
  {
   "cell_type": "code",
   "execution_count": 109,
   "id": "6926eb7b",
   "metadata": {},
   "outputs": [],
   "source": [
    "ls2.remove(10)"
   ]
  },
  {
   "cell_type": "code",
   "execution_count": 110,
   "id": "09c76892",
   "metadata": {},
   "outputs": [
    {
     "data": {
      "text/plain": [
       "[9, 8, 6, 2]"
      ]
     },
     "execution_count": 110,
     "metadata": {},
     "output_type": "execute_result"
    }
   ],
   "source": [
    "ls2"
   ]
  },
  {
   "cell_type": "markdown",
   "id": "de84f798",
   "metadata": {},
   "source": [
    "# pop()  ---returns and removes an element at the given index\n"
   ]
  },
  {
   "cell_type": "code",
   "execution_count": 114,
   "id": "a6e2bd4b",
   "metadata": {},
   "outputs": [
    {
     "data": {
      "text/plain": [
       "2"
      ]
     },
     "execution_count": 114,
     "metadata": {},
     "output_type": "execute_result"
    }
   ],
   "source": [
    "ls2.pop()"
   ]
  },
  {
   "cell_type": "code",
   "execution_count": 115,
   "id": "2e9c102a",
   "metadata": {},
   "outputs": [
    {
     "data": {
      "text/plain": [
       "[9, 8, 6]"
      ]
     },
     "execution_count": 115,
     "metadata": {},
     "output_type": "execute_result"
    }
   ],
   "source": [
    "ls2"
   ]
  },
  {
   "cell_type": "code",
   "execution_count": 116,
   "id": "07ae96c3",
   "metadata": {},
   "outputs": [
    {
     "data": {
      "text/plain": [
       "6"
      ]
     },
     "execution_count": 116,
     "metadata": {},
     "output_type": "execute_result"
    }
   ],
   "source": [
    "ls2.pop(-1)"
   ]
  },
  {
   "cell_type": "code",
   "execution_count": 118,
   "id": "30f125d4",
   "metadata": {},
   "outputs": [
    {
     "data": {
      "text/plain": [
       "[9, 8]"
      ]
     },
     "execution_count": 118,
     "metadata": {},
     "output_type": "execute_result"
    }
   ],
   "source": [
    "ls2"
   ]
  },
  {
   "cell_type": "markdown",
   "id": "dcc79e09",
   "metadata": {},
   "source": [
    "# clear()  -removes all items from the list"
   ]
  },
  {
   "cell_type": "code",
   "execution_count": 119,
   "id": "72b7854a",
   "metadata": {},
   "outputs": [],
   "source": [
    "ls2.clear()"
   ]
  },
  {
   "cell_type": "code",
   "execution_count": 120,
   "id": "dd84c83d",
   "metadata": {},
   "outputs": [
    {
     "data": {
      "text/plain": [
       "[]"
      ]
     },
     "execution_count": 120,
     "metadata": {},
     "output_type": "execute_result"
    }
   ],
   "source": [
    "ls2"
   ]
  },
  {
   "cell_type": "markdown",
   "id": "8c9285c5",
   "metadata": {},
   "source": [
    "# List Comprehension:Elegant way to create lists"
   ]
  },
  {
   "cell_type": "code",
   "execution_count": 121,
   "id": "36b0ebfc",
   "metadata": {},
   "outputs": [
    {
     "data": {
      "text/plain": [
       "[0, 1, 2, 3, 4, 5, 6, 7, 8, 9]"
      ]
     },
     "execution_count": 121,
     "metadata": {},
     "output_type": "execute_result"
    }
   ],
   "source": [
    "list1=[]\n",
    "for x in range(10):\n",
    "    list1.append(x)\n",
    "list1"
   ]
  },
  {
   "cell_type": "code",
   "execution_count": 122,
   "id": "da1d21a0",
   "metadata": {},
   "outputs": [
    {
     "data": {
      "text/plain": [
       "[0, 1, 2, 3, 4, 5, 6, 7, 8, 9]"
      ]
     },
     "execution_count": 122,
     "metadata": {},
     "output_type": "execute_result"
    }
   ],
   "source": [
    "list2=[x for x in range(10)]\n",
    "list2"
   ]
  },
  {
   "cell_type": "code",
   "execution_count": 124,
   "id": "7d34576e",
   "metadata": {},
   "outputs": [
    {
     "data": {
      "text/plain": [
       "[0, 1, 2, 3, 4, 5, 6, 7, 8, 9, 0, 2, 4, 6, 8]"
      ]
     },
     "execution_count": 124,
     "metadata": {},
     "output_type": "execute_result"
    }
   ],
   "source": [
    "list3 =[] #empety list\n",
    "for x in range(10):\n",
    "    if x%2==0: #always even\n",
    "        list1.append(x)\n",
    "list1"
   ]
  },
  {
   "cell_type": "code",
   "execution_count": 129,
   "id": "de0db57f",
   "metadata": {},
   "outputs": [
    {
     "data": {
      "text/plain": [
       "[0, 2, 4, 6, 8]"
      ]
     },
     "execution_count": 129,
     "metadata": {},
     "output_type": "execute_result"
    }
   ],
   "source": [
    "list3 =[] #empety list\n",
    "for x in range(10):\n",
    "    if x%2==0: #always even\n",
    "        list3.append(x)\n",
    "list3"
   ]
  },
  {
   "cell_type": "code",
   "execution_count": 130,
   "id": "f942c762",
   "metadata": {},
   "outputs": [
    {
     "data": {
      "text/plain": [
       "[1, 3, 5, 7, 9]"
      ]
     },
     "execution_count": 130,
     "metadata": {},
     "output_type": "execute_result"
    }
   ],
   "source": [
    "list3 =[] #empety list\n",
    "for x in range(10):\n",
    "    if x%2==1: #always odd\n",
    "        list3.append(x)\n",
    "list3"
   ]
  },
  {
   "cell_type": "code",
   "execution_count": 131,
   "id": "2eca1fe5",
   "metadata": {},
   "outputs": [
    {
     "data": {
      "text/plain": [
       "[0, 2, 4, 6, 8]"
      ]
     },
     "execution_count": 131,
     "metadata": {},
     "output_type": "execute_result"
    }
   ],
   "source": [
    "list4 =[x for x in range(10) if x%2==0] #even\n",
    "list4"
   ]
  },
  {
   "cell_type": "code",
   "execution_count": 132,
   "id": "3e0e24ef",
   "metadata": {},
   "outputs": [
    {
     "data": {
      "text/plain": [
       "[1, 3, 5, 7, 9]"
      ]
     },
     "execution_count": 132,
     "metadata": {},
     "output_type": "execute_result"
    }
   ],
   "source": [
    "list4 =[x for x in range(10) if x%2==1] #odd\n",
    "list4"
   ]
  },
  {
   "cell_type": "code",
   "execution_count": 136,
   "id": "7939bf57",
   "metadata": {},
   "outputs": [],
   "source": [
    "#Iteration through list\n",
    "\n",
    "list5 =['ai','ds',1,2,3,4,5,6]\n",
    "list6=[x for x in list5]\n"
   ]
  },
  {
   "cell_type": "code",
   "execution_count": 137,
   "id": "8ff74b2f",
   "metadata": {},
   "outputs": [
    {
     "data": {
      "text/plain": [
       "['ai', 'ds', 1, 2, 3, 4, 5, 6]"
      ]
     },
     "execution_count": 137,
     "metadata": {},
     "output_type": "execute_result"
    }
   ],
   "source": [
    "list5"
   ]
  },
  {
   "cell_type": "code",
   "execution_count": 138,
   "id": "3f82ac99",
   "metadata": {},
   "outputs": [
    {
     "data": {
      "text/plain": [
       "['ai', 'ds', 1, 2, 3, 4, 5, 6]"
      ]
     },
     "execution_count": 138,
     "metadata": {},
     "output_type": "execute_result"
    }
   ],
   "source": [
    "list6"
   ]
  },
  {
   "cell_type": "code",
   "execution_count": 139,
   "id": "32e60f73",
   "metadata": {},
   "outputs": [],
   "source": [
    "list6=[x for x in list5 if x!='ai']"
   ]
  },
  {
   "cell_type": "code",
   "execution_count": 140,
   "id": "0ccec97e",
   "metadata": {},
   "outputs": [
    {
     "data": {
      "text/plain": [
       "['ds', 1, 2, 3, 4, 5, 6]"
      ]
     },
     "execution_count": 140,
     "metadata": {},
     "output_type": "execute_result"
    }
   ],
   "source": [
    "list6"
   ]
  },
  {
   "cell_type": "code",
   "execution_count": 141,
   "id": "dca64ca3",
   "metadata": {},
   "outputs": [],
   "source": [
    "list6=[3**x for x in range(10)] #last 3**9"
   ]
  },
  {
   "cell_type": "code",
   "execution_count": 143,
   "id": "36244632",
   "metadata": {},
   "outputs": [
    {
     "data": {
      "text/plain": [
       "[1, 3, 9, 27, 81, 243, 729, 2187, 6561, 19683]"
      ]
     },
     "execution_count": 143,
     "metadata": {},
     "output_type": "execute_result"
    }
   ],
   "source": [
    "list6"
   ]
  },
  {
   "cell_type": "code",
   "execution_count": 144,
   "id": "f475967c",
   "metadata": {},
   "outputs": [
    {
     "data": {
      "text/plain": [
       "[0, 2, 4, 6, 8]"
      ]
     },
     "execution_count": 144,
     "metadata": {},
     "output_type": "execute_result"
    }
   ],
   "source": [
    "#List Membership testing\n",
    "list2"
   ]
  },
  {
   "cell_type": "code",
   "execution_count": 145,
   "id": "c1cca7a8",
   "metadata": {},
   "outputs": [
    {
     "data": {
      "text/plain": [
       "False"
      ]
     },
     "execution_count": 145,
     "metadata": {},
     "output_type": "execute_result"
    }
   ],
   "source": [
    "9 in list2 #membership testing"
   ]
  },
  {
   "cell_type": "code",
   "execution_count": 147,
   "id": "020d02a8",
   "metadata": {},
   "outputs": [
    {
     "data": {
      "text/plain": [
       "False"
      ]
     },
     "execution_count": 147,
     "metadata": {},
     "output_type": "execute_result"
    }
   ],
   "source": [
    "9 in list2"
   ]
  },
  {
   "cell_type": "code",
   "execution_count": null,
   "id": "46e74c75",
   "metadata": {},
   "outputs": [],
   "source": []
  }
 ],
 "metadata": {
  "kernelspec": {
   "display_name": "Python 3 (ipykernel)",
   "language": "python",
   "name": "python3"
  },
  "language_info": {
   "codemirror_mode": {
    "name": "ipython",
    "version": 3
   },
   "file_extension": ".py",
   "mimetype": "text/x-python",
   "name": "python",
   "nbconvert_exporter": "python",
   "pygments_lexer": "ipython3",
   "version": "3.9.13"
  }
 },
 "nbformat": 4,
 "nbformat_minor": 5
}
